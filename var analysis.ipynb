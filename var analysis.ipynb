{
 "cells": [
  {
   "cell_type": "code",
   "execution_count": 23,
   "id": "94cb4348",
   "metadata": {},
   "outputs": [],
   "source": [
    "# need to read dta (stata) file in python first\n",
    "# install pandas\n",
    "import pandas as pd\n",
    "import numpy as np\n",
    "import matplotlib.pyplot as plt\n",
    "import seaborn as sns\n",
    "from statsmodels.tsa.api import VAR\n",
    "from statsmodels.tsa.stattools import adfuller\n",
    "from statsmodels.tsa.stattools import acf\n",
    "from statsmodels.tsa.stattools import grangercausalitytests"
   ]
  },
  {
   "cell_type": "code",
   "execution_count": 24,
   "id": "1ebea0a4",
   "metadata": {},
   "outputs": [],
   "source": [
    "# load dta file\n",
    "ftse = pd.read_stata(\"ftse100-1.dta\")\n",
    "exchange = pd.read_stata(\"exchange-2.dta\")"
   ]
  },
  {
   "cell_type": "code",
   "execution_count": 25,
   "id": "e6884521",
   "metadata": {},
   "outputs": [
    {
     "data": {
      "text/html": [
       "<div>\n",
       "<style scoped>\n",
       "    .dataframe tbody tr th:only-of-type {\n",
       "        vertical-align: middle;\n",
       "    }\n",
       "\n",
       "    .dataframe tbody tr th {\n",
       "        vertical-align: top;\n",
       "    }\n",
       "\n",
       "    .dataframe thead th {\n",
       "        text-align: right;\n",
       "    }\n",
       "</style>\n",
       "<table border=\"1\" class=\"dataframe\">\n",
       "  <thead>\n",
       "    <tr style=\"text-align: right;\">\n",
       "      <th></th>\n",
       "      <th>date</th>\n",
       "      <th>ftse100</th>\n",
       "    </tr>\n",
       "  </thead>\n",
       "  <tbody>\n",
       "    <tr>\n",
       "      <th>0</th>\n",
       "      <td>2016-06-22</td>\n",
       "      <td>6261.189941</td>\n",
       "    </tr>\n",
       "    <tr>\n",
       "      <th>1</th>\n",
       "      <td>2016-06-23</td>\n",
       "      <td>6338.100098</td>\n",
       "    </tr>\n",
       "    <tr>\n",
       "      <th>2</th>\n",
       "      <td>2016-06-24</td>\n",
       "      <td>6138.689941</td>\n",
       "    </tr>\n",
       "    <tr>\n",
       "      <th>3</th>\n",
       "      <td>2016-06-27</td>\n",
       "      <td>5982.200195</td>\n",
       "    </tr>\n",
       "    <tr>\n",
       "      <th>4</th>\n",
       "      <td>2016-06-28</td>\n",
       "      <td>6140.390137</td>\n",
       "    </tr>\n",
       "    <tr>\n",
       "      <th>...</th>\n",
       "      <td>...</td>\n",
       "      <td>...</td>\n",
       "    </tr>\n",
       "    <tr>\n",
       "      <th>1180</th>\n",
       "      <td>2021-02-19</td>\n",
       "      <td>6624.000000</td>\n",
       "    </tr>\n",
       "    <tr>\n",
       "      <th>1181</th>\n",
       "      <td>2021-02-22</td>\n",
       "      <td>6612.200195</td>\n",
       "    </tr>\n",
       "    <tr>\n",
       "      <th>1182</th>\n",
       "      <td>2021-02-23</td>\n",
       "      <td>6625.899902</td>\n",
       "    </tr>\n",
       "    <tr>\n",
       "      <th>1183</th>\n",
       "      <td>2021-02-24</td>\n",
       "      <td>6659.000000</td>\n",
       "    </tr>\n",
       "    <tr>\n",
       "      <th>1184</th>\n",
       "      <td>2021-02-25</td>\n",
       "      <td>6652.000000</td>\n",
       "    </tr>\n",
       "  </tbody>\n",
       "</table>\n",
       "<p>1185 rows × 2 columns</p>\n",
       "</div>"
      ],
      "text/plain": [
       "           date      ftse100\n",
       "0    2016-06-22  6261.189941\n",
       "1    2016-06-23  6338.100098\n",
       "2    2016-06-24  6138.689941\n",
       "3    2016-06-27  5982.200195\n",
       "4    2016-06-28  6140.390137\n",
       "...         ...          ...\n",
       "1180 2021-02-19  6624.000000\n",
       "1181 2021-02-22  6612.200195\n",
       "1182 2021-02-23  6625.899902\n",
       "1183 2021-02-24  6659.000000\n",
       "1184 2021-02-25  6652.000000\n",
       "\n",
       "[1185 rows x 2 columns]"
      ]
     },
     "execution_count": 25,
     "metadata": {},
     "output_type": "execute_result"
    }
   ],
   "source": [
    "# view datasets\n",
    "ftse"
   ]
  },
  {
   "cell_type": "code",
   "execution_count": 26,
   "id": "1b56a753",
   "metadata": {},
   "outputs": [
    {
     "name": "stdout",
     "output_type": "stream",
     "text": [
      "<class 'pandas.core.frame.DataFrame'>\n",
      "Int64Index: 1185 entries, 0 to 1184\n",
      "Data columns (total 2 columns):\n",
      " #   Column   Non-Null Count  Dtype         \n",
      "---  ------   --------------  -----         \n",
      " 0   date     1185 non-null   datetime64[ns]\n",
      " 1   ftse100  1184 non-null   float32       \n",
      "dtypes: datetime64[ns](1), float32(1)\n",
      "memory usage: 23.1 KB\n",
      "<class 'pandas.core.frame.DataFrame'>\n",
      "Int64Index: 1222 entries, 0 to 1221\n",
      "Data columns (total 2 columns):\n",
      " #   Column    Non-Null Count  Dtype         \n",
      "---  ------    --------------  -----         \n",
      " 0   date      1222 non-null   datetime64[ns]\n",
      " 1   exchange  1200 non-null   float32       \n",
      "dtypes: datetime64[ns](1), float32(1)\n",
      "memory usage: 23.9 KB\n"
     ]
    }
   ],
   "source": [
    "# view structure of ftse and exchange.\n",
    "# note they are both float32. i.e., numbers\n",
    "ftse.info()\n",
    "exchange.info()"
   ]
  },
  {
   "cell_type": "code",
   "execution_count": 27,
   "id": "2681c49a",
   "metadata": {},
   "outputs": [
    {
     "data": {
      "text/html": [
       "<div>\n",
       "<style scoped>\n",
       "    .dataframe tbody tr th:only-of-type {\n",
       "        vertical-align: middle;\n",
       "    }\n",
       "\n",
       "    .dataframe tbody tr th {\n",
       "        vertical-align: top;\n",
       "    }\n",
       "\n",
       "    .dataframe thead th {\n",
       "        text-align: right;\n",
       "    }\n",
       "</style>\n",
       "<table border=\"1\" class=\"dataframe\">\n",
       "  <thead>\n",
       "    <tr style=\"text-align: right;\">\n",
       "      <th></th>\n",
       "      <th>date</th>\n",
       "      <th>ftse100</th>\n",
       "      <th>exchange</th>\n",
       "    </tr>\n",
       "  </thead>\n",
       "  <tbody>\n",
       "    <tr>\n",
       "      <th>0</th>\n",
       "      <td>2016-06-22</td>\n",
       "      <td>6261.189941</td>\n",
       "      <td>1.30368</td>\n",
       "    </tr>\n",
       "    <tr>\n",
       "      <th>1</th>\n",
       "      <td>2016-06-23</td>\n",
       "      <td>6338.100098</td>\n",
       "      <td>1.30520</td>\n",
       "    </tr>\n",
       "    <tr>\n",
       "      <th>2</th>\n",
       "      <td>2016-06-24</td>\n",
       "      <td>6138.689941</td>\n",
       "      <td>1.28443</td>\n",
       "    </tr>\n",
       "    <tr>\n",
       "      <th>3</th>\n",
       "      <td>2016-06-27</td>\n",
       "      <td>5982.200195</td>\n",
       "      <td>1.21788</td>\n",
       "    </tr>\n",
       "    <tr>\n",
       "      <th>4</th>\n",
       "      <td>2016-06-28</td>\n",
       "      <td>6140.390137</td>\n",
       "      <td>1.20121</td>\n",
       "    </tr>\n",
       "    <tr>\n",
       "      <th>...</th>\n",
       "      <td>...</td>\n",
       "      <td>...</td>\n",
       "      <td>...</td>\n",
       "    </tr>\n",
       "    <tr>\n",
       "      <th>1180</th>\n",
       "      <td>2021-02-19</td>\n",
       "      <td>6624.000000</td>\n",
       "      <td>1.15505</td>\n",
       "    </tr>\n",
       "    <tr>\n",
       "      <th>1181</th>\n",
       "      <td>2021-02-22</td>\n",
       "      <td>6612.200195</td>\n",
       "      <td>1.15701</td>\n",
       "    </tr>\n",
       "    <tr>\n",
       "      <th>1182</th>\n",
       "      <td>2021-02-23</td>\n",
       "      <td>6625.899902</td>\n",
       "      <td>1.15630</td>\n",
       "    </tr>\n",
       "    <tr>\n",
       "      <th>1183</th>\n",
       "      <td>2021-02-24</td>\n",
       "      <td>6659.000000</td>\n",
       "      <td>1.16171</td>\n",
       "    </tr>\n",
       "    <tr>\n",
       "      <th>1184</th>\n",
       "      <td>2021-02-25</td>\n",
       "      <td>6652.000000</td>\n",
       "      <td>1.16233</td>\n",
       "    </tr>\n",
       "  </tbody>\n",
       "</table>\n",
       "<p>1185 rows × 3 columns</p>\n",
       "</div>"
      ],
      "text/plain": [
       "           date      ftse100  exchange\n",
       "0    2016-06-22  6261.189941   1.30368\n",
       "1    2016-06-23  6338.100098   1.30520\n",
       "2    2016-06-24  6138.689941   1.28443\n",
       "3    2016-06-27  5982.200195   1.21788\n",
       "4    2016-06-28  6140.390137   1.20121\n",
       "...         ...          ...       ...\n",
       "1180 2021-02-19  6624.000000   1.15505\n",
       "1181 2021-02-22  6612.200195   1.15701\n",
       "1182 2021-02-23  6625.899902   1.15630\n",
       "1183 2021-02-24  6659.000000   1.16171\n",
       "1184 2021-02-25  6652.000000   1.16233\n",
       "\n",
       "[1185 rows x 3 columns]"
      ]
     },
     "execution_count": 27,
     "metadata": {},
     "output_type": "execute_result"
    }
   ],
   "source": [
    "# merge the two datasets\n",
    "exchangestock = pd.merge(ftse,exchange)\n",
    "exchangestock"
   ]
  },
  {
   "cell_type": "code",
   "execution_count": 28,
   "id": "1672ab64",
   "metadata": {},
   "outputs": [
    {
     "data": {
      "text/html": [
       "<div>\n",
       "<style scoped>\n",
       "    .dataframe tbody tr th:only-of-type {\n",
       "        vertical-align: middle;\n",
       "    }\n",
       "\n",
       "    .dataframe tbody tr th {\n",
       "        vertical-align: top;\n",
       "    }\n",
       "\n",
       "    .dataframe thead th {\n",
       "        text-align: right;\n",
       "    }\n",
       "</style>\n",
       "<table border=\"1\" class=\"dataframe\">\n",
       "  <thead>\n",
       "    <tr style=\"text-align: right;\">\n",
       "      <th></th>\n",
       "      <th>date</th>\n",
       "      <th>ftse100</th>\n",
       "      <th>exchange</th>\n",
       "    </tr>\n",
       "  </thead>\n",
       "  <tbody>\n",
       "    <tr>\n",
       "      <th>0</th>\n",
       "      <td>2016-06-22</td>\n",
       "      <td>6261.189941</td>\n",
       "      <td>1.30368</td>\n",
       "    </tr>\n",
       "    <tr>\n",
       "      <th>1</th>\n",
       "      <td>2016-06-23</td>\n",
       "      <td>6338.100098</td>\n",
       "      <td>1.30520</td>\n",
       "    </tr>\n",
       "    <tr>\n",
       "      <th>2</th>\n",
       "      <td>2016-06-24</td>\n",
       "      <td>6138.689941</td>\n",
       "      <td>1.28443</td>\n",
       "    </tr>\n",
       "    <tr>\n",
       "      <th>3</th>\n",
       "      <td>2016-06-27</td>\n",
       "      <td>5982.200195</td>\n",
       "      <td>1.21788</td>\n",
       "    </tr>\n",
       "    <tr>\n",
       "      <th>4</th>\n",
       "      <td>2016-06-28</td>\n",
       "      <td>6140.390137</td>\n",
       "      <td>1.20121</td>\n",
       "    </tr>\n",
       "    <tr>\n",
       "      <th>...</th>\n",
       "      <td>...</td>\n",
       "      <td>...</td>\n",
       "      <td>...</td>\n",
       "    </tr>\n",
       "    <tr>\n",
       "      <th>1180</th>\n",
       "      <td>2021-02-19</td>\n",
       "      <td>6624.000000</td>\n",
       "      <td>1.15505</td>\n",
       "    </tr>\n",
       "    <tr>\n",
       "      <th>1181</th>\n",
       "      <td>2021-02-22</td>\n",
       "      <td>6612.200195</td>\n",
       "      <td>1.15701</td>\n",
       "    </tr>\n",
       "    <tr>\n",
       "      <th>1182</th>\n",
       "      <td>2021-02-23</td>\n",
       "      <td>6625.899902</td>\n",
       "      <td>1.15630</td>\n",
       "    </tr>\n",
       "    <tr>\n",
       "      <th>1183</th>\n",
       "      <td>2021-02-24</td>\n",
       "      <td>6659.000000</td>\n",
       "      <td>1.16171</td>\n",
       "    </tr>\n",
       "    <tr>\n",
       "      <th>1184</th>\n",
       "      <td>2021-02-25</td>\n",
       "      <td>6652.000000</td>\n",
       "      <td>1.16233</td>\n",
       "    </tr>\n",
       "  </tbody>\n",
       "</table>\n",
       "<p>1185 rows × 3 columns</p>\n",
       "</div>"
      ],
      "text/plain": [
       "           date      ftse100  exchange\n",
       "0    2016-06-22  6261.189941   1.30368\n",
       "1    2016-06-23  6338.100098   1.30520\n",
       "2    2016-06-24  6138.689941   1.28443\n",
       "3    2016-06-27  5982.200195   1.21788\n",
       "4    2016-06-28  6140.390137   1.20121\n",
       "...         ...          ...       ...\n",
       "1180 2021-02-19  6624.000000   1.15505\n",
       "1181 2021-02-22  6612.200195   1.15701\n",
       "1182 2021-02-23  6625.899902   1.15630\n",
       "1183 2021-02-24  6659.000000   1.16171\n",
       "1184 2021-02-25  6652.000000   1.16233\n",
       "\n",
       "[1185 rows x 3 columns]"
      ]
     },
     "execution_count": 28,
     "metadata": {},
     "output_type": "execute_result"
    }
   ],
   "source": [
    "# double check df is sorted by date\n",
    "exchangestock.sort_values(\"date\")"
   ]
  },
  {
   "cell_type": "code",
   "execution_count": 29,
   "id": "8ab08984",
   "metadata": {},
   "outputs": [
    {
     "name": "stdout",
     "output_type": "stream",
     "text": [
      "                                    date      ftse100  exchange\n",
      "1970-01-01 00:00:00.000000000 2016-06-22  6261.189941   1.30368\n",
      "1970-01-01 00:00:00.000000001 2016-06-23  6338.100098   1.30520\n",
      "1970-01-01 00:00:00.000000002 2016-06-24  6138.689941   1.28443\n",
      "1970-01-01 00:00:00.000000003 2016-06-27  5982.200195   1.21788\n",
      "1970-01-01 00:00:00.000000004 2016-06-28  6140.390137   1.20121\n",
      "...                                  ...          ...       ...\n",
      "1970-01-01 00:00:00.000001180 2021-02-19  6624.000000   1.15505\n",
      "1970-01-01 00:00:00.000001181 2021-02-22  6612.200195   1.15701\n",
      "1970-01-01 00:00:00.000001182 2021-02-23  6625.899902   1.15630\n",
      "1970-01-01 00:00:00.000001183 2021-02-24  6659.000000   1.16171\n",
      "1970-01-01 00:00:00.000001184 2021-02-25  6652.000000   1.16233\n",
      "\n",
      "[1185 rows x 3 columns]\n"
     ]
    }
   ],
   "source": [
    "exchangestock.index = pd.to_datetime(exchangestock.index)\n",
    "print(exchangestock)"
   ]
  },
  {
   "cell_type": "code",
   "execution_count": 30,
   "id": "6adf9fc6",
   "metadata": {},
   "outputs": [
    {
     "name": "stdout",
     "output_type": "stream",
     "text": [
      "           date      ftse100  exchange\n",
      "0    2016-06-22  6261.189941   1.30368\n",
      "1    2016-06-23  6338.100098   1.30520\n",
      "2    2016-06-24  6138.689941   1.28443\n",
      "3    2016-06-27  5982.200195   1.21788\n",
      "4    2016-06-28  6140.390137   1.20121\n",
      "...         ...          ...       ...\n",
      "1180 2021-02-19  6624.000000   1.15505\n",
      "1181 2021-02-22  6612.200195   1.15701\n",
      "1182 2021-02-23  6625.899902   1.15630\n",
      "1183 2021-02-24  6659.000000   1.16171\n",
      "1184 2021-02-25  6652.000000   1.16233\n",
      "\n",
      "[1185 rows x 3 columns]\n"
     ]
    }
   ],
   "source": [
    "# fix these unnesseary additions\n",
    "exchangestock = exchangestock.reset_index(drop=True)\n",
    "print(exchangestock)"
   ]
  },
  {
   "cell_type": "code",
   "execution_count": 31,
   "id": "2147f661",
   "metadata": {},
   "outputs": [],
   "source": [
    "# convert date variable to datetime type\n",
    "exchangestock['date'] = pd.to_datetime(exchangestock['date'])\n",
    "\n",
    "# set date column as the index\n",
    "exchangestock = exchangestock.set_index('date')"
   ]
  },
  {
   "cell_type": "code",
   "execution_count": 32,
   "id": "876db60d",
   "metadata": {},
   "outputs": [],
   "source": [
    "# define pandemic start date\n",
    "pandemic = pd.to_datetime('2020-02-21')"
   ]
  },
  {
   "cell_type": "code",
   "execution_count": 33,
   "id": "75c64199",
   "metadata": {},
   "outputs": [
    {
     "name": "stdout",
     "output_type": "stream",
     "text": [
      "           ftse100    exchange\n",
      "count   929.000000  907.000000\n",
      "mean   7269.801270    1.143870\n",
      "std     288.260620    0.028303\n",
      "min    5982.200195    1.072430\n",
      "25%    7107.200195    1.123650\n",
      "50%    7317.399902    1.139760\n",
      "75%    7482.500000    1.165530\n",
      "max    7877.450195    1.305200\n",
      "           ftse100    exchange\n",
      "count   255.000000  256.000000\n",
      "mean   6155.143066    1.117841\n",
      "std     392.368591    0.021140\n",
      "min    4993.899902    1.060330\n",
      "25%    5900.250000    1.103523\n",
      "50%    6123.700195    1.112345\n",
      "75%    6469.500000    1.129338\n",
      "max    7403.899902    1.195040\n"
     ]
    }
   ],
   "source": [
    "# calculate statistics for pre-pandemic and pandemic periods\n",
    "pre_pandemic_stats = exchangestock[exchangestock.index < pandemic].describe()\n",
    "pandemic_stats = exchangestock[exchangestock.index >= pandemic].describe()\n",
    "print(pre_pandemic_stats)\n",
    "print(pandemic_stats)"
   ]
  },
  {
   "cell_type": "code",
   "execution_count": 34,
   "id": "c290dd5d",
   "metadata": {
    "scrolled": true
   },
   "outputs": [],
   "source": [
    "# create index variables\n",
    "base = '2020-02-21'\n",
    "base_values = exchangestock.loc[base]\n",
    "\n",
    "exchangestock['ftse100_index'] = (exchangestock['ftse100'] / base_values['ftse100']) * 100\n",
    "exchangestock['exchange_index'] = (exchangestock['exchange'] / base_values['exchange']) * 100"
   ]
  },
  {
   "cell_type": "code",
   "execution_count": 35,
   "id": "4eea6264",
   "metadata": {},
   "outputs": [
    {
     "data": {
      "text/plain": [
       "<Figure size 1200x600 with 0 Axes>"
      ]
     },
     "metadata": {},
     "output_type": "display_data"
    },
    {
     "data": {
      "image/png": "[encoded data removed]",
      "text/plain": [
       "<Figure size 640x480 with 1 Axes>"
      ]
     },
     "metadata": {},
     "output_type": "display_data"
    }
   ],
   "source": [
    "# plot index variables\n",
    "plt.figure(figsize=(12, 6))\n",
    "exchangestock[exchangestock.index >= pandemic][['ftse100_index', 'exchange_index']].plot()\n",
    "plt.title('FTSE 100 and Exchange Rate Indices (Base: Feb 21, 2020)')\n",
    "plt.legend(['FTSE 100', 'Exchange Rate'])\n",
    "plt.grid(True)\n",
    "plt.xlabel('Date')\n",
    "plt.ylabel('Index Value')\n",
    "\n",
    "plt.show()"
   ]
  },
  {
   "cell_type": "code",
   "execution_count": 36,
   "id": "c8680e91",
   "metadata": {},
   "outputs": [
    {
     "name": "stdout",
     "output_type": "stream",
     "text": [
      "           ftse100  exchange\n",
      "ftse100   1.000000 -0.309957\n",
      "exchange -0.309957  1.000000\n",
      "           ftse100  exchange\n",
      "ftse100   1.000000  0.344543\n",
      "exchange  0.344543  1.000000\n"
     ]
    }
   ],
   "source": [
    "# find correlation for both periods\n",
    "# **improve, I want significance levels too**\n",
    "pre_pandemic_corr = exchangestock[exchangestock.index < pandemic][['ftse100', 'exchange']].corr()\n",
    "pandemic_corr = exchangestock[exchangestock.index >= pandemic][['ftse100', 'exchange']].corr()\n",
    "print(pre_pandemic_corr)\n",
    "print(pandemic_corr)"
   ]
  },
  {
   "cell_type": "code",
   "execution_count": 37,
   "id": "e9d68035",
   "metadata": {},
   "outputs": [],
   "source": [
    "# log transformation\n",
    "exchangestock['lftse100'] = np.log(exchangestock['ftse100'])\n",
    "exchangestock['lexchange'] = np.log(exchangestock['exchange'])"
   ]
  },
  {
   "cell_type": "code",
   "execution_count": 38,
   "id": "1c8a5263",
   "metadata": {},
   "outputs": [],
   "source": [
    "# perform alternate dickey-fuller (adf) test to test for unit root\n",
    "\n",
    "def perform_adf_test(series):\n",
    "    result = adfuller(series, autolag='AIC')\n",
    "    return {\n",
    "        'Test Statistic':result[0],\n",
    "        'p-value': result[1],\n",
    "        'Critical value': result[4]\n",
    "    }"
   ]
  },
  {
   "cell_type": "code",
   "execution_count": 39,
   "id": "a5ee586c",
   "metadata": {},
   "outputs": [
    {
     "name": "stdout",
     "output_type": "stream",
     "text": [
      "0\n"
     ]
    }
   ],
   "source": [
    "# I have missing variables. Count them\n",
    "print(clean_pandemic_data.isna().sum().sum())"
   ]
  },
  {
   "cell_type": "code",
   "execution_count": 44,
   "id": "3460eb3a",
   "metadata": {},
   "outputs": [],
   "source": [
    "# try again\n",
    "pandemic_data = exchangestock[exchangestock.index >= pandemic]\n",
    "adf_lftse = perform_adf_test(clean_pandemic_data['lftse100'])\n",
    "adf_lexchange = perform_adf_test(clean_pandemic_data['lexchange'])\n",
    "clean_pandemic_data = pandemic_data.dropna()"
   ]
  },
  {
   "cell_type": "code",
   "execution_count": 45,
   "id": "500ee9d5",
   "metadata": {},
   "outputs": [],
   "source": [
    "# create first difference\n",
    "exchangestock['dlftse100'] = exchangestock['lftse100'].diff()\n",
    "exchangestock['dlexchange'] = exchangestock['lexchange'].diff()"
   ]
  },
  {
   "cell_type": "code",
   "execution_count": 46,
   "id": "8974873a",
   "metadata": {},
   "outputs": [],
   "source": [
    "# prep data for var\n",
    "clean_pandemic_data = exchangestock[exchangestock.index >= pandemic].dropna()\n",
    "var_data = clean_pandemic_data[['dlftse100', 'dlexchange']]"
   ]
  },
  {
   "cell_type": "code",
   "execution_count": 47,
   "id": "cc72aa2e",
   "metadata": {},
   "outputs": [
    {
     "name": "stderr",
     "output_type": "stream",
     "text": [
      "C:\\Users\\Elliot\\anaconda3\\lib\\site-packages\\statsmodels\\tsa\\base\\tsa_model.py:471: ValueWarning: A date index has been provided, but it has no associated frequency information and so will be ignored when e.g. forecasting.\n",
      "  self._init_dates(dates, freq)\n"
     ]
    }
   ],
   "source": [
    "# find optimal lag period\n",
    "model = VAR(var_data)\n",
    "lag_order = model.select_order()"
   ]
  },
  {
   "cell_type": "code",
   "execution_count": 48,
   "id": "067d80ef",
   "metadata": {},
   "outputs": [],
   "source": [
    "# fitted var model\n",
    "var_fitted = model.fit(maxlags=lag_order.selected_orders['aic'])"
   ]
  },
  {
   "cell_type": "code",
   "execution_count": 49,
   "id": "285b1c44",
   "metadata": {},
   "outputs": [
    {
     "name": "stdout",
     "output_type": "stream",
     "text": [
      "\n",
      "Granger Causality\n",
      "number of lags (no zero) 1\n",
      "ssr based F test:         F=0.6772  , p=0.4114  , df_denom=250, df_num=1\n",
      "ssr based chi2 test:   chi2=0.6853  , p=0.4078  , df=1\n",
      "likelihood ratio test: chi2=0.6844  , p=0.4081  , df=1\n",
      "parameter F test:         F=0.6772  , p=0.4114  , df_denom=250, df_num=1\n",
      "\n",
      "Granger Causality\n",
      "number of lags (no zero) 2\n",
      "ssr based F test:         F=0.2404  , p=0.7865  , df_denom=247, df_num=2\n",
      "ssr based chi2 test:   chi2=0.4905  , p=0.7825  , df=2\n",
      "likelihood ratio test: chi2=0.4901  , p=0.7827  , df=2\n",
      "parameter F test:         F=0.2404  , p=0.7865  , df_denom=247, df_num=2\n",
      "\n",
      "Granger Causality\n",
      "number of lags (no zero) 3\n",
      "ssr based F test:         F=0.3254  , p=0.8070  , df_denom=244, df_num=3\n",
      "ssr based chi2 test:   chi2=1.0042  , p=0.8002  , df=3\n",
      "likelihood ratio test: chi2=1.0022  , p=0.8007  , df=3\n",
      "parameter F test:         F=0.3254  , p=0.8070  , df_denom=244, df_num=3\n",
      "\n",
      "Granger Causality\n",
      "number of lags (no zero) 4\n",
      "ssr based F test:         F=0.2848  , p=0.8877  , df_denom=241, df_num=4\n",
      "ssr based chi2 test:   chi2=1.1817  , p=0.8811  , df=4\n",
      "likelihood ratio test: chi2=1.1789  , p=0.8816  , df=4\n",
      "parameter F test:         F=0.2848  , p=0.8877  , df_denom=241, df_num=4\n",
      "\n",
      "Granger Causality\n",
      "number of lags (no zero) 5\n",
      "ssr based F test:         F=0.5646  , p=0.7271  , df_denom=238, df_num=5\n",
      "ssr based chi2 test:   chi2=2.9533  , p=0.7072  , df=5\n",
      "likelihood ratio test: chi2=2.9359  , p=0.7099  , df=5\n",
      "parameter F test:         F=0.5646  , p=0.7271  , df_denom=238, df_num=5\n",
      "\n",
      "Granger Causality\n",
      "number of lags (no zero) 6\n",
      "ssr based F test:         F=1.4263  , p=0.2052  , df_denom=235, df_num=6\n",
      "ssr based chi2 test:   chi2=9.0313  , p=0.1718  , df=6\n",
      "likelihood ratio test: chi2=8.8707  , p=0.1810  , df=6\n",
      "parameter F test:         F=1.4263  , p=0.2052  , df_denom=235, df_num=6\n",
      "\n",
      "Granger Causality\n",
      "number of lags (no zero) 7\n",
      "ssr based F test:         F=0.9966  , p=0.4345  , df_denom=232, df_num=7\n",
      "ssr based chi2 test:   chi2=7.4269  , p=0.3858  , df=7\n",
      "likelihood ratio test: chi2=7.3174  , p=0.3966  , df=7\n",
      "parameter F test:         F=0.9966  , p=0.4345  , df_denom=232, df_num=7\n",
      "\n",
      "Granger Causality\n",
      "number of lags (no zero) 8\n",
      "ssr based F test:         F=0.9008  , p=0.5165  , df_denom=229, df_num=8\n",
      "ssr based chi2 test:   chi2=7.7413  , p=0.4591  , df=8\n",
      "likelihood ratio test: chi2=7.6220  , p=0.4712  , df=8\n",
      "parameter F test:         F=0.9008  , p=0.5165  , df_denom=229, df_num=8\n",
      "\n",
      "Granger Causality\n",
      "number of lags (no zero) 9\n",
      "ssr based F test:         F=1.4050  , p=0.1869  , df_denom=226, df_num=9\n",
      "ssr based chi2 test:   chi2=13.7080 , p=0.1331  , df=9\n",
      "likelihood ratio test: chi2=13.3383 , p=0.1479  , df=9\n",
      "parameter F test:         F=1.4050  , p=0.1869  , df_denom=226, df_num=9\n",
      "\n",
      "Granger Causality\n",
      "number of lags (no zero) 10\n",
      "ssr based F test:         F=1.2635  , p=0.2524  , df_denom=223, df_num=10\n",
      "ssr based chi2 test:   chi2=13.8253 , p=0.1811  , df=10\n",
      "likelihood ratio test: chi2=13.4478 , p=0.1997  , df=10\n",
      "parameter F test:         F=1.2635  , p=0.2524  , df_denom=223, df_num=10\n",
      "\n",
      "Granger Causality\n",
      "number of lags (no zero) 11\n",
      "ssr based F test:         F=1.2804  , p=0.2370  , df_denom=220, df_num=11\n",
      "ssr based chi2 test:   chi2=15.5573 , p=0.1584  , df=11\n",
      "likelihood ratio test: chi2=15.0796 , p=0.1789  , df=11\n",
      "parameter F test:         F=1.2804  , p=0.2370  , df_denom=220, df_num=11\n",
      "\n",
      "Granger Causality\n",
      "number of lags (no zero) 12\n",
      "ssr based F test:         F=1.6189  , p=0.0878  , df_denom=217, df_num=12\n",
      "ssr based chi2 test:   chi2=21.6647 , p=0.0415  , df=12\n",
      "likelihood ratio test: chi2=20.7492 , p=0.0542  , df=12\n",
      "parameter F test:         F=1.6189  , p=0.0878  , df_denom=217, df_num=12\n",
      "\n",
      "Granger Causality\n",
      "number of lags (no zero) 13\n",
      "ssr based F test:         F=2.3498  , p=0.0060  , df_denom=214, df_num=13\n",
      "ssr based chi2 test:   chi2=34.4014 , p=0.0010  , df=13\n",
      "likelihood ratio test: chi2=32.1573 , p=0.0023  , df=13\n",
      "parameter F test:         F=2.3498  , p=0.0060  , df_denom=214, df_num=13\n",
      "\n",
      "Granger Causality\n",
      "number of lags (no zero) 1\n",
      "ssr based F test:         F=11.8317 , p=0.0007  , df_denom=250, df_num=1\n",
      "ssr based chi2 test:   chi2=11.9737 , p=0.0005  , df=1\n",
      "likelihood ratio test: chi2=11.6990 , p=0.0006  , df=1\n",
      "parameter F test:         F=11.8317 , p=0.0007  , df_denom=250, df_num=1\n",
      "\n",
      "Granger Causality\n",
      "number of lags (no zero) 2\n",
      "ssr based F test:         F=5.8385  , p=0.0033  , df_denom=247, df_num=2\n",
      "ssr based chi2 test:   chi2=11.9133 , p=0.0026  , df=2\n",
      "likelihood ratio test: chi2=11.6403 , p=0.0030  , df=2\n",
      "parameter F test:         F=5.8385  , p=0.0033  , df_denom=247, df_num=2\n",
      "\n",
      "Granger Causality\n",
      "number of lags (no zero) 3\n",
      "ssr based F test:         F=8.6940  , p=0.0000  , df_denom=244, df_num=3\n",
      "ssr based chi2 test:   chi2=26.8303 , p=0.0000  , df=3\n",
      "likelihood ratio test: chi2=25.4910 , p=0.0000  , df=3\n",
      "parameter F test:         F=8.6940  , p=0.0000  , df_denom=244, df_num=3\n",
      "\n",
      "Granger Causality\n",
      "number of lags (no zero) 4\n",
      "ssr based F test:         F=6.8154  , p=0.0000  , df_denom=241, df_num=4\n",
      "ssr based chi2 test:   chi2=28.2797 , p=0.0000  , df=4\n",
      "likelihood ratio test: chi2=26.7915 , p=0.0000  , df=4\n",
      "parameter F test:         F=6.8154  , p=0.0000  , df_denom=241, df_num=4\n",
      "\n",
      "Granger Causality\n",
      "number of lags (no zero) 5\n",
      "ssr based F test:         F=7.9180  , p=0.0000  , df_denom=238, df_num=5\n",
      "ssr based chi2 test:   chi2=41.4200 , p=0.0000  , df=5\n",
      "likelihood ratio test: chi2=38.3149 , p=0.0000  , df=5\n",
      "parameter F test:         F=7.9180  , p=0.0000  , df_denom=238, df_num=5\n",
      "\n",
      "Granger Causality\n",
      "number of lags (no zero) 6\n",
      "ssr based F test:         F=6.9249  , p=0.0000  , df_denom=235, df_num=6\n",
      "ssr based chi2 test:   chi2=43.8477 , p=0.0000  , df=6\n",
      "likelihood ratio test: chi2=40.3752 , p=0.0000  , df=6\n",
      "parameter F test:         F=6.9249  , p=0.0000  , df_denom=235, df_num=6\n",
      "\n",
      "Granger Causality\n",
      "number of lags (no zero) 7\n",
      "ssr based F test:         F=6.0809  , p=0.0000  , df_denom=232, df_num=7\n",
      "ssr based chi2 test:   chi2=45.3186 , p=0.0000  , df=7\n",
      "likelihood ratio test: chi2=41.6086 , p=0.0000  , df=7\n",
      "parameter F test:         F=6.0809  , p=0.0000  , df_denom=232, df_num=7\n",
      "\n",
      "Granger Causality\n",
      "number of lags (no zero) 8\n",
      "ssr based F test:         F=5.6848  , p=0.0000  , df_denom=229, df_num=8\n",
      "ssr based chi2 test:   chi2=48.8549 , p=0.0000  , df=8\n",
      "likelihood ratio test: chi2=44.5633 , p=0.0000  , df=8\n",
      "parameter F test:         F=5.6848  , p=0.0000  , df_denom=229, df_num=8\n",
      "\n",
      "Granger Causality\n",
      "number of lags (no zero) 9\n",
      "ssr based F test:         F=5.2426  , p=0.0000  , df_denom=226, df_num=9\n",
      "ssr based chi2 test:   chi2=51.1506 , p=0.0000  , df=9\n",
      "likelihood ratio test: chi2=46.4544 , p=0.0000  , df=9\n",
      "parameter F test:         F=5.2426  , p=0.0000  , df_denom=226, df_num=9\n",
      "\n",
      "Granger Causality\n",
      "number of lags (no zero) 10\n",
      "ssr based F test:         F=4.7801  , p=0.0000  , df_denom=223, df_num=10\n",
      "ssr based chi2 test:   chi2=52.3020 , p=0.0000  , df=10\n",
      "likelihood ratio test: chi2=47.3875 , p=0.0000  , df=10\n",
      "parameter F test:         F=4.7801  , p=0.0000  , df_denom=223, df_num=10\n",
      "\n",
      "Granger Causality\n",
      "number of lags (no zero) 11\n",
      "ssr based F test:         F=4.7303  , p=0.0000  , df_denom=220, df_num=11\n",
      "ssr based chi2 test:   chi2=57.4726 , p=0.0000  , df=11\n",
      "likelihood ratio test: chi2=51.5877 , p=0.0000  , df=11\n",
      "parameter F test:         F=4.7303  , p=0.0000  , df_denom=220, df_num=11\n",
      "\n",
      "Granger Causality\n",
      "number of lags (no zero) 12\n",
      "ssr based F test:         F=4.1336  , p=0.0000  , df_denom=217, df_num=12\n",
      "ssr based chi2 test:   chi2=55.3178 , p=0.0000  , df=12\n",
      "likelihood ratio test: chi2=49.8191 , p=0.0000  , df=12\n",
      "parameter F test:         F=4.1336  , p=0.0000  , df_denom=217, df_num=12\n",
      "\n",
      "Granger Causality\n",
      "number of lags (no zero) 13\n",
      "ssr based F test:         F=3.7155  , p=0.0000  , df_denom=214, df_num=13\n",
      "ssr based chi2 test:   chi2=54.3954 , p=0.0000  , df=13\n",
      "likelihood ratio test: chi2=49.0478 , p=0.0000  , df=13\n",
      "parameter F test:         F=3.7155  , p=0.0000  , df_denom=214, df_num=13\n"
     ]
    }
   ],
   "source": [
    "# granger casuality\n",
    "from statsmodels.tsa.stattools import grangercausalitytests\n",
    "\n",
    "gc_test_exchange_to_ftse = grangercausalitytests(var_data[['dlftse100', 'dlexchange']], maxlag=lag_order.selected_orders['aic'])\n",
    "gc_test_ftse_to_exchange = grangercausalitytests(var_data[['dlexchange', 'dlftse100']], maxlag=lag_order.selected_orders['aic'])"
   ]
  },
  {
   "cell_type": "code",
   "execution_count": 54,
   "id": "5c9926d3",
   "metadata": {},
   "outputs": [
    {
     "name": "stderr",
     "output_type": "stream",
     "text": [
      "C:\\Users\\Elliot\\anaconda3\\lib\\site-packages\\statsmodels\\tsa\\base\\tsa_model.py:471: ValueWarning: A date index has been provided, but it has no associated frequency information and so will be ignored when e.g. forecasting.\n",
      "  self._init_dates(dates, freq)\n"
     ]
    }
   ],
   "source": [
    "# repeat VAR and Granger causality analysis for pre-pandemic period\n",
    "pre_pandemic_data = exchangestock[exchangestock.index < pandemic].dropna()\n",
    "pre_pandemic_var_data = pre_pandemic_data[['dlftse100', 'dlexchange']]\n",
    "\n",
    "pre_model = VAR(pre_pandemic_var_data)\n",
    "pre_lag_order = pre_model.select_order()\n",
    "pre_var_fitted = pre_model.fit(maxlags=pre_lag_order.selected_orders['aic'])"
   ]
  },
  {
   "cell_type": "code",
   "execution_count": 56,
   "id": "d5054f9c",
   "metadata": {},
   "outputs": [
    {
     "name": "stdout",
     "output_type": "stream",
     "text": [
      "\n",
      "Granger Causality\n",
      "number of lags (no zero) 1\n",
      "ssr based F test:         F=2.1986  , p=0.1385  , df_denom=898, df_num=1\n",
      "ssr based chi2 test:   chi2=2.2059  , p=0.1375  , df=1\n",
      "likelihood ratio test: chi2=2.2032  , p=0.1377  , df=1\n",
      "parameter F test:         F=2.1986  , p=0.1385  , df_denom=898, df_num=1\n",
      "\n",
      "Granger Causality\n",
      "number of lags (no zero) 1\n",
      "ssr based F test:         F=9.1462  , p=0.0026  , df_denom=898, df_num=1\n",
      "ssr based chi2 test:   chi2=9.1767  , p=0.0025  , df=1\n",
      "likelihood ratio test: chi2=9.1303  , p=0.0025  , df=1\n",
      "parameter F test:         F=9.1462  , p=0.0026  , df_denom=898, df_num=1\n"
     ]
    }
   ],
   "source": [
    "# granger test 2\n",
    "pre_gc_test_exchange_to_ftse = grangercausalitytests(pre_pandemic_var_data[['dlftse100', 'dlexchange']], maxlag=pre_lag_order.selected_orders['aic'])\n",
    "pre_gc_test_ftse_to_exchange = grangercausalitytests(pre_pandemic_var_data[['dlexchange', 'dlftse100']], maxlag=pre_lag_order.selected_orders['aic'])"
   ]
  }
 ],
 "metadata": {
  "kernelspec": {
   "display_name": "Python 3 (ipykernel)",
   "language": "python",
   "name": "python3"
  },
  "language_info": {
   "codemirror_mode": {
    "name": "ipython",
    "version": 3
   },
   "file_extension": ".py",
   "mimetype": "text/x-python",
   "name": "python",
   "nbconvert_exporter": "python",
   "pygments_lexer": "ipython3",
   "version": "3.9.13"
  }
 },
 "nbformat": 4,
 "nbformat_minor": 5
}
